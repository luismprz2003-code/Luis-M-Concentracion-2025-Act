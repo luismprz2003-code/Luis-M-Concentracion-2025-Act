{
  "cells": [
    {
      "cell_type": "code",
      "execution_count": null,
      "metadata": {
        "id": "4KxY2SHNIi6V"
      },
      "outputs": [],
      "source": [
        "import numpy as np\n",
        "import matplotlib.pyplot as plt\n",
        "import seaborn as sns\n",
        "import plotly.express as px\n",
        "import altair as alt\n",
        "import polars as pl"
      ]
    },
    {
      "cell_type": "code",
      "execution_count": null,
      "metadata": {
        "colab": {
          "base_uri": "https://localhost:8080/"
        },
        "id": "nZqjxb84JmUm",
        "outputId": "e97252b8-eb87-4a40-d954-64e5bb9930eb"
      },
      "outputs": [],
      "source": [
        "sns.set_style(\"whitegrid\")\n",
        "plt.rcParams['figure.figsize'] = (12, 8)\n",
        "\n",
        "alt.data_transformers.enable('default', max_rows=None)\n",
        "\n",
        "print(\"Librerías importadas y configuración lista.\")"
      ]
    },
    {
      "cell_type": "code",
      "execution_count": null,
      "metadata": {
        "colab": {
          "base_uri": "https://localhost:8080/"
        },
        "id": "iJu5TSITJyox",
        "outputId": "599a9315-04a6-4a86-8ee0-d60f87e988cd"
      },
      "outputs": [],
      "source": [
        "url = \"https://data.insideairbnb.com/mexico/df/mexico-city/2025-03-19/data/listings.csv.gz\"\n",
        "\n",
        "print(f\"Cargando datos desde: {url}\")\n",
        "\n",
        "try:\n",
        "    df = pl.read_csv(url)\n",
        "    print(\"Datos cargados exitosamente con Polars.\")\n",
        "    print(f\"El dataset tiene {df.shape[0]} filas y {df.shape[1]} columnas.\")\n",
        "except Exception as e:\n",
        "    print(f\"Error al cargar los datos: {e}\")\n",
        "    df = pl.DataFrame()\n",
        "\n",
        "if not df.is_empty():\n",
        "    df = df.with_columns(\n",
        "        pl.col(\"price\")\n",
        "        .str.replace_all(r\"\\$\", \"\")\n",
        "        .str.replace_all(r\",\", \"\")\n",
        "        .cast(pl.Float64, strict=False)\n",
        "        .alias(\"price\")\n",
        "    ).drop_nulls(\n",
        "        subset=[\"price\"]\n",
        "    ).filter(\n",
        "        pl.col(\"price\") > 0\n",
        "    )\n",
        "    print(\"Columna 'price' limpiada y convertida a tipo numérico usando Polars.\")"
      ]
    },
    {
      "cell_type": "code",
      "execution_count": null,
      "metadata": {
        "colab": {
          "base_uri": "https://localhost:8080/"
        },
        "id": "yU0RynA3KENN",
        "outputId": "25b54a37-f323-4cd1-fcc8-ee4992725524"
      },
      "outputs": [],
      "source": [
        "print(\"\\n--- 1. ¿Cuál es el precio promedio por noche? ---\")\n",
        "avg_price = df.select(pl.col('price').mean()).item()\n",
        "print(f\"El precio promedio de un Airbnb en CDMX es: ${avg_price:,.2f} MXN\")\n",
        "\n",
        "print(\"\\n--- 2. ¿Cuáles son los tipos de alojamiento más comunes? ---\")\n",
        "room_types = df.group_by('room_type').agg(pl.len().alias('count')).sort('count', descending=True)\n",
        "print(room_types)\n",
        "\n",
        "print(\"\\n--- 3. ¿Cuáles son las 10 delegaciones con más alojamientos? ---\")\n",
        "top_neighbourhoods = df.group_by('neighbourhood_cleansed').agg(pl.len().alias('count')).sort('count', descending=True).head(10)\n",
        "print(top_neighbourhoods)\n",
        "\n",
        "print(\"\\n--- 4. ¿Quiénes son los 10 anfitriones con más propiedades? ---\")\n",
        "top_hosts = df.group_by('host_name').agg(pl.len().alias('count')).sort('count', descending=True).head(10)\n",
        "print(top_hosts)"
      ]
    },
    {
      "cell_type": "code",
      "execution_count": null,
      "metadata": {
        "colab": {
          "base_uri": "https://localhost:8080/",
          "height": 538
        },
        "id": "DavFbnN2KOCH",
        "outputId": "7ef48078-185d-4b2c-d48f-b158253eaabb"
      },
      "outputs": [],
      "source": [
        "q95 = df.select(pl.col('price').quantile(0.95)).item()  \n",
        "price_to_plot_df = df.filter(pl.col('price') < q95).to_pandas()\n",
        "\n",
        "chart_hist = alt.Chart(price_to_plot_df).mark_bar().encode(\n",
        "    alt.X('price:Q', bin=alt.Bin(maxbins=50), title='Precio (MXN por noche)'),\n",
        "    alt.Y('count()', title='Frecuencia'),\n",
        "    tooltip=[alt.Tooltip('count()', title='Frecuencia'), alt.Tooltip('price:Q', bin=True, title='Rango de Precio')]\n",
        ").properties(\n",
        "    title='Distribución de Precios (para el 95% de los alojamientos)',\n",
        "    width=700,\n",
        "    height=400\n",
        ")\n",
        "chart_hist.show()"
      ]
    },
    {
      "cell_type": "code",
      "execution_count": null,
      "metadata": {
        "colab": {
          "base_uri": "https://localhost:8080/",
          "height": 542
        },
        "id": "8pptcbRMLidy",
        "outputId": "d8f4ed01-610d-4464-a359-f86fd7d326c6"
      },
      "outputs": [],
      "source": [
        "room_types_pd = room_types.to_pandas()\n",
        "\n",
        "fig_room_types = px.bar(\n",
        "    room_types_pd,\n",
        "    x='room_type',\n",
        "    y='count',\n",
        "    title='Número de Alojamientos por Tipo',\n",
        "    labels={'room_type': 'Tipo de Alojamiento', 'count': 'Cantidad'},\n",
        "    color='room_type'\n",
        ")\n",
        "fig_room_types.show()"
      ]
    },
    {
      "cell_type": "code",
      "execution_count": null,
      "metadata": {
        "colab": {
          "base_uri": "https://localhost:8080/",
          "height": 542
        },
        "id": "r8yM6DnBLwhM",
        "outputId": "b70c1cc3-eff0-48fd-c5ce-47ec1646e738"
      },
      "outputs": [],
      "source": [
        "top_neighbourhoods_pd = top_neighbourhoods.to_pandas()\n",
        "\n",
        "fig_hoods = px.bar(\n",
        "    top_neighbourhoods_pd,\n",
        "    y='neighbourhood_cleansed',\n",
        "    x='count',\n",
        "    orientation='h',\n",
        "    title='Top 10 Delegaciones por Cantidad de Alojamientos',\n",
        "    labels={'neighbourhood_cleansed': 'Delegación', 'count': 'Cantidad de Alojamientos'},\n",
        "    color='count',\n",
        "    color_continuous_scale=px.colors.sequential.Viridis\n",
        ").update_yaxes(categoryorder=\"total ascending\")\n",
        "fig_hoods.show()"
      ]
    },
    {
      "cell_type": "code",
      "execution_count": null,
      "metadata": {
        "colab": {
          "base_uri": "https://localhost:8080/",
          "height": 542
        },
        "id": "HdmmvRH5L3gy",
        "outputId": "86c40602-6f18-43ff-a787-cc0e932dbc06"
      },
      "outputs": [],
      "source": [
        "top_hosts_pd = top_hosts.to_pandas()\n",
        "\n",
        "fig_hosts = px.bar(\n",
        "    top_hosts_pd,\n",
        "    y='host_name',\n",
        "    x='count',\n",
        "    orientation='h',\n",
        "    title='Top 10 Anfitriones por Número de Propiedades',\n",
        "    labels={'host_name': 'Nombre del Anfitrión', 'count': 'Cantidad de Propiedades'},\n",
        "    color='count',\n",
        "    color_continuous_scale=px.colors.sequential.Plasma\n",
        ").update_yaxes(categoryorder=\"total ascending\")\n",
        "fig_hosts.show()"
      ]
    },
    {
      "cell_type": "code",
      "execution_count": null,
      "metadata": {
        "colab": {
          "base_uri": "https://localhost:8080/",
          "height": 542
        },
        "id": "yPdm3mrsL8w1",
        "outputId": "53b97529-9db2-4c00-8cc7-c78af798c908"
      },
      "outputs": [],
      "source": [
        "import polars as pl\n",
        "import plotly.express as px\n",
        "\n",
        "q95 = df.select(pl.col(\"price\").quantile(0.95)).item()\n",
        "\n",
        "df_filtered = (\n",
        "    df\n",
        "    .filter(pl.col(\"price\").is_not_null())\n",
        "    .filter(pl.col(\"latitude\").is_not_null() & pl.col(\"longitude\").is_not_null())\n",
        "    .filter(pl.col(\"price\") < q95)\n",
        ")\n",
        "\n",
        "n_sample = min(5000, df_filtered.height)\n",
        "df_sample_for_plot = (\n",
        "    df_filtered\n",
        "    .sample(n=n_sample, seed=42)\n",
        "    .select([\"latitude\", \"longitude\", \"price\", \"name\", \"neighbourhood_cleansed\"])\n",
        "    .to_pandas()\n",
        ")\n",
        "\n",
        "center_lat = float(df_sample_for_plot[\"latitude\"].mean())\n",
        "center_lon = float(df_sample_for_plot[\"longitude\"].mean())\n",
        "\n",
        "fig_map = px.scatter_mapbox(\n",
        "    df_sample_for_plot,\n",
        "    lat=\"latitude\",\n",
        "    lon=\"longitude\",\n",
        "    color=\"price\",\n",
        "    size=\"price\",\n",
        "    color_continuous_scale=px.colors.sequential.Viridis_r,\n",
        "    size_max=15,\n",
        "    zoom=10,\n",
        "    center={\"lat\": center_lat, \"lon\": center_lon},\n",
        "    mapbox_style=\"open-street-map\",\n",
        "    hover_name=\"name\",\n",
        "    hover_data={\"neighbourhood_cleansed\": True, \"price\": \":$.2f\"},\n",
        "    title=\"Mapa Interactivo de Precios (≤ p95)\"\n",
        ")\n",
        "\n",
        "fig_map.update_layout(legend_title_text=\"Precio (MXN)\")\n",
        "fig_map.show()"
      ]
    }
  ],
  "metadata": {
    "accelerator": "GPU",
    "colab": {
      "gpuType": "T4",
      "provenance": []
    },
    "kernelspec": {
      "display_name": "Python 3",
      "name": "python3"
    },
    "language_info": {
      "codemirror_mode": {
        "name": "ipython",
        "version": 3
      },
      "file_extension": ".py",
      "mimetype": "text/x-python",
      "name": "python",
      "nbconvert_exporter": "python",
      "pygments_lexer": "ipython3",
      "version": "3.13.5"
    }
  },
  "nbformat": 4,
  "nbformat_minor": 0
}
